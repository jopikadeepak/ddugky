{
 "cells": [
  {
   "cell_type": "code",
   "execution_count": 1,
   "id": "8ad79e27",
   "metadata": {},
   "outputs": [],
   "source": [
    "import pandas as pd\n",
    "import numpy as np\n",
    "import warnings\n",
    "import seaborn as sns\n",
    "warnings.filterwarnings(\"ignore\")\n",
    "import matplotlib.pyplot as plt"
   ]
  },
  {
   "cell_type": "code",
   "execution_count": 2,
   "id": "169c660c",
   "metadata": {},
   "outputs": [
    {
     "data": {
      "text/html": [
       "<div>\n",
       "<style scoped>\n",
       "    .dataframe tbody tr th:only-of-type {\n",
       "        vertical-align: middle;\n",
       "    }\n",
       "\n",
       "    .dataframe tbody tr th {\n",
       "        vertical-align: top;\n",
       "    }\n",
       "\n",
       "    .dataframe thead th {\n",
       "        text-align: right;\n",
       "    }\n",
       "</style>\n",
       "<table border=\"1\" class=\"dataframe\">\n",
       "  <thead>\n",
       "    <tr style=\"text-align: right;\">\n",
       "      <th></th>\n",
       "      <th>Date</th>\n",
       "      <th>Price</th>\n",
       "      <th>Open</th>\n",
       "      <th>High</th>\n",
       "      <th>Low</th>\n",
       "      <th>Volume</th>\n",
       "      <th>Chg%</th>\n",
       "    </tr>\n",
       "  </thead>\n",
       "  <tbody>\n",
       "    <tr>\n",
       "      <th>0</th>\n",
       "      <td>1-Apr-11</td>\n",
       "      <td>1.78</td>\n",
       "      <td>1.83</td>\n",
       "      <td>1.88</td>\n",
       "      <td>1.77</td>\n",
       "      <td>42.98M</td>\n",
       "      <td>-3.78%</td>\n",
       "    </tr>\n",
       "    <tr>\n",
       "      <th>1</th>\n",
       "      <td>1-Apr-13</td>\n",
       "      <td>2.93</td>\n",
       "      <td>2.82</td>\n",
       "      <td>3.11</td>\n",
       "      <td>2.78</td>\n",
       "      <td>211.59M</td>\n",
       "      <td>15.81%</td>\n",
       "    </tr>\n",
       "    <tr>\n",
       "      <th>2</th>\n",
       "      <td>1-Apr-14</td>\n",
       "      <td>14.46</td>\n",
       "      <td>13.93</td>\n",
       "      <td>14.54</td>\n",
       "      <td>13.91</td>\n",
       "      <td>110.57M</td>\n",
       "      <td>4.03%</td>\n",
       "    </tr>\n",
       "    <tr>\n",
       "      <th>3</th>\n",
       "      <td>1-Apr-15</td>\n",
       "      <td>12.51</td>\n",
       "      <td>12.58</td>\n",
       "      <td>12.82</td>\n",
       "      <td>12.4</td>\n",
       "      <td>56.92M</td>\n",
       "      <td>-0.56%</td>\n",
       "    </tr>\n",
       "    <tr>\n",
       "      <th>4</th>\n",
       "      <td>1-Apr-16</td>\n",
       "      <td>15.84</td>\n",
       "      <td>16.32</td>\n",
       "      <td>16.53</td>\n",
       "      <td>15.55</td>\n",
       "      <td>239.96M</td>\n",
       "      <td>3.39%</td>\n",
       "    </tr>\n",
       "    <tr>\n",
       "      <th>...</th>\n",
       "      <td>...</td>\n",
       "      <td>...</td>\n",
       "      <td>...</td>\n",
       "      <td>...</td>\n",
       "      <td>...</td>\n",
       "      <td>...</td>\n",
       "      <td>...</td>\n",
       "    </tr>\n",
       "    <tr>\n",
       "      <th>3253</th>\n",
       "      <td>30-Sep-16</td>\n",
       "      <td>13.60</td>\n",
       "      <td>13.48</td>\n",
       "      <td>13.67</td>\n",
       "      <td>13.3</td>\n",
       "      <td>38.79M</td>\n",
       "      <td>1.64%</td>\n",
       "    </tr>\n",
       "    <tr>\n",
       "      <th>3254</th>\n",
       "      <td>30-Sep-19</td>\n",
       "      <td>16.06</td>\n",
       "      <td>16.20</td>\n",
       "      <td>16.27</td>\n",
       "      <td>15.74</td>\n",
       "      <td>89.19M</td>\n",
       "      <td>-0.50%</td>\n",
       "    </tr>\n",
       "    <tr>\n",
       "      <th>3255</th>\n",
       "      <td>30-Sep-20</td>\n",
       "      <td>143.00</td>\n",
       "      <td>140.44</td>\n",
       "      <td>144.64</td>\n",
       "      <td>140.16</td>\n",
       "      <td>144.44M</td>\n",
       "      <td>2.37%</td>\n",
       "    </tr>\n",
       "    <tr>\n",
       "      <th>3256</th>\n",
       "      <td>30-Sep-21</td>\n",
       "      <td>258.49</td>\n",
       "      <td>260.33</td>\n",
       "      <td>263.04</td>\n",
       "      <td>258.33</td>\n",
       "      <td>53.87M</td>\n",
       "      <td>-0.75%</td>\n",
       "    </tr>\n",
       "    <tr>\n",
       "      <th>3257</th>\n",
       "      <td>30-Sep-22</td>\n",
       "      <td>265.25</td>\n",
       "      <td>266.14</td>\n",
       "      <td>275.57</td>\n",
       "      <td>262.47</td>\n",
       "      <td>67.73M</td>\n",
       "      <td>-1.10%</td>\n",
       "    </tr>\n",
       "  </tbody>\n",
       "</table>\n",
       "<p>3258 rows × 7 columns</p>\n",
       "</div>"
      ],
      "text/plain": [
       "           Date   Price    Open    High     Low   Volume    Chg%\n",
       "0      1-Apr-11    1.78    1.83    1.88    1.77   42.98M  -3.78%\n",
       "1      1-Apr-13    2.93    2.82    3.11    2.78  211.59M  15.81%\n",
       "2      1-Apr-14   14.46   13.93   14.54   13.91  110.57M   4.03%\n",
       "3      1-Apr-15   12.51   12.58   12.82    12.4   56.92M  -0.56%\n",
       "4      1-Apr-16   15.84   16.32   16.53   15.55  239.96M   3.39%\n",
       "...         ...     ...     ...     ...     ...      ...     ...\n",
       "3253  30-Sep-16   13.60   13.48   13.67    13.3   38.79M   1.64%\n",
       "3254  30-Sep-19   16.06   16.20   16.27   15.74   89.19M  -0.50%\n",
       "3255  30-Sep-20  143.00  140.44  144.64  140.16  144.44M   2.37%\n",
       "3256  30-Sep-21  258.49  260.33  263.04  258.33   53.87M  -0.75%\n",
       "3257  30-Sep-22  265.25  266.14  275.57  262.47   67.73M  -1.10%\n",
       "\n",
       "[3258 rows x 7 columns]"
      ]
     },
     "execution_count": 2,
     "metadata": {},
     "output_type": "execute_result"
    }
   ],
   "source": [
    "df=pd.read_csv(\"Tesla_stock_Price.csv\")\n",
    "df"
   ]
  },
  {
   "cell_type": "code",
   "execution_count": 3,
   "id": "19b22a31",
   "metadata": {},
   "outputs": [
    {
     "data": {
      "text/plain": [
       "(3258, 7)"
      ]
     },
     "execution_count": 3,
     "metadata": {},
     "output_type": "execute_result"
    }
   ],
   "source": [
    "df.shape"
   ]
  },
  {
   "cell_type": "code",
   "execution_count": 4,
   "id": "ca642be5",
   "metadata": {},
   "outputs": [
    {
     "data": {
      "text/plain": [
       "Date      0.000000\n",
       "Price     2.455494\n",
       "Open      2.455494\n",
       "High      2.455494\n",
       "Low       2.455494\n",
       "Volume    2.455494\n",
       "Chg%      3.683241\n",
       "dtype: float64"
      ]
     },
     "execution_count": 4,
     "metadata": {},
     "output_type": "execute_result"
    }
   ],
   "source": [
    "df.isnull().mean()*100"
   ]
  },
  {
   "cell_type": "code",
   "execution_count": 5,
   "id": "a6a9fcda",
   "metadata": {},
   "outputs": [],
   "source": [
    "df.dropna(inplace=True)"
   ]
  },
  {
   "cell_type": "code",
   "execution_count": 6,
   "id": "01fb72b1",
   "metadata": {},
   "outputs": [
    {
     "data": {
      "text/html": [
       "<div>\n",
       "<style scoped>\n",
       "    .dataframe tbody tr th:only-of-type {\n",
       "        vertical-align: middle;\n",
       "    }\n",
       "\n",
       "    .dataframe tbody tr th {\n",
       "        vertical-align: top;\n",
       "    }\n",
       "\n",
       "    .dataframe thead th {\n",
       "        text-align: right;\n",
       "    }\n",
       "</style>\n",
       "<table border=\"1\" class=\"dataframe\">\n",
       "  <thead>\n",
       "    <tr style=\"text-align: right;\">\n",
       "      <th></th>\n",
       "      <th>Date</th>\n",
       "      <th>Price</th>\n",
       "      <th>Open</th>\n",
       "      <th>High</th>\n",
       "      <th>Low</th>\n",
       "      <th>Volume</th>\n",
       "      <th>Chg%</th>\n",
       "    </tr>\n",
       "  </thead>\n",
       "  <tbody>\n",
       "    <tr>\n",
       "      <th>0</th>\n",
       "      <td>1-Apr-11</td>\n",
       "      <td>1.78</td>\n",
       "      <td>1.83</td>\n",
       "      <td>1.88</td>\n",
       "      <td>1.77</td>\n",
       "      <td>42.98M</td>\n",
       "      <td>-3.78%</td>\n",
       "    </tr>\n",
       "    <tr>\n",
       "      <th>1</th>\n",
       "      <td>1-Apr-13</td>\n",
       "      <td>2.93</td>\n",
       "      <td>2.82</td>\n",
       "      <td>3.11</td>\n",
       "      <td>2.78</td>\n",
       "      <td>211.59M</td>\n",
       "      <td>15.81%</td>\n",
       "    </tr>\n",
       "    <tr>\n",
       "      <th>2</th>\n",
       "      <td>1-Apr-14</td>\n",
       "      <td>14.46</td>\n",
       "      <td>13.93</td>\n",
       "      <td>14.54</td>\n",
       "      <td>13.91</td>\n",
       "      <td>110.57M</td>\n",
       "      <td>4.03%</td>\n",
       "    </tr>\n",
       "    <tr>\n",
       "      <th>3</th>\n",
       "      <td>1-Apr-15</td>\n",
       "      <td>12.51</td>\n",
       "      <td>12.58</td>\n",
       "      <td>12.82</td>\n",
       "      <td>12.4</td>\n",
       "      <td>56.92M</td>\n",
       "      <td>-0.56%</td>\n",
       "    </tr>\n",
       "    <tr>\n",
       "      <th>4</th>\n",
       "      <td>1-Apr-16</td>\n",
       "      <td>15.84</td>\n",
       "      <td>16.32</td>\n",
       "      <td>16.53</td>\n",
       "      <td>15.55</td>\n",
       "      <td>239.96M</td>\n",
       "      <td>3.39%</td>\n",
       "    </tr>\n",
       "    <tr>\n",
       "      <th>...</th>\n",
       "      <td>...</td>\n",
       "      <td>...</td>\n",
       "      <td>...</td>\n",
       "      <td>...</td>\n",
       "      <td>...</td>\n",
       "      <td>...</td>\n",
       "      <td>...</td>\n",
       "    </tr>\n",
       "    <tr>\n",
       "      <th>3253</th>\n",
       "      <td>30-Sep-16</td>\n",
       "      <td>13.60</td>\n",
       "      <td>13.48</td>\n",
       "      <td>13.67</td>\n",
       "      <td>13.3</td>\n",
       "      <td>38.79M</td>\n",
       "      <td>1.64%</td>\n",
       "    </tr>\n",
       "    <tr>\n",
       "      <th>3254</th>\n",
       "      <td>30-Sep-19</td>\n",
       "      <td>16.06</td>\n",
       "      <td>16.20</td>\n",
       "      <td>16.27</td>\n",
       "      <td>15.74</td>\n",
       "      <td>89.19M</td>\n",
       "      <td>-0.50%</td>\n",
       "    </tr>\n",
       "    <tr>\n",
       "      <th>3255</th>\n",
       "      <td>30-Sep-20</td>\n",
       "      <td>143.00</td>\n",
       "      <td>140.44</td>\n",
       "      <td>144.64</td>\n",
       "      <td>140.16</td>\n",
       "      <td>144.44M</td>\n",
       "      <td>2.37%</td>\n",
       "    </tr>\n",
       "    <tr>\n",
       "      <th>3256</th>\n",
       "      <td>30-Sep-21</td>\n",
       "      <td>258.49</td>\n",
       "      <td>260.33</td>\n",
       "      <td>263.04</td>\n",
       "      <td>258.33</td>\n",
       "      <td>53.87M</td>\n",
       "      <td>-0.75%</td>\n",
       "    </tr>\n",
       "    <tr>\n",
       "      <th>3257</th>\n",
       "      <td>30-Sep-22</td>\n",
       "      <td>265.25</td>\n",
       "      <td>266.14</td>\n",
       "      <td>275.57</td>\n",
       "      <td>262.47</td>\n",
       "      <td>67.73M</td>\n",
       "      <td>-1.10%</td>\n",
       "    </tr>\n",
       "  </tbody>\n",
       "</table>\n",
       "<p>3138 rows × 7 columns</p>\n",
       "</div>"
      ],
      "text/plain": [
       "           Date   Price    Open    High     Low   Volume    Chg%\n",
       "0      1-Apr-11    1.78    1.83    1.88    1.77   42.98M  -3.78%\n",
       "1      1-Apr-13    2.93    2.82    3.11    2.78  211.59M  15.81%\n",
       "2      1-Apr-14   14.46   13.93   14.54   13.91  110.57M   4.03%\n",
       "3      1-Apr-15   12.51   12.58   12.82    12.4   56.92M  -0.56%\n",
       "4      1-Apr-16   15.84   16.32   16.53   15.55  239.96M   3.39%\n",
       "...         ...     ...     ...     ...     ...      ...     ...\n",
       "3253  30-Sep-16   13.60   13.48   13.67    13.3   38.79M   1.64%\n",
       "3254  30-Sep-19   16.06   16.20   16.27   15.74   89.19M  -0.50%\n",
       "3255  30-Sep-20  143.00  140.44  144.64  140.16  144.44M   2.37%\n",
       "3256  30-Sep-21  258.49  260.33  263.04  258.33   53.87M  -0.75%\n",
       "3257  30-Sep-22  265.25  266.14  275.57  262.47   67.73M  -1.10%\n",
       "\n",
       "[3138 rows x 7 columns]"
      ]
     },
     "execution_count": 6,
     "metadata": {},
     "output_type": "execute_result"
    }
   ],
   "source": [
    "df"
   ]
  },
  {
   "cell_type": "code",
   "execution_count": 7,
   "id": "eabc6887",
   "metadata": {},
   "outputs": [
    {
     "data": {
      "text/plain": [
       "Date      0.0\n",
       "Price     0.0\n",
       "Open      0.0\n",
       "High      0.0\n",
       "Low       0.0\n",
       "Volume    0.0\n",
       "Chg%      0.0\n",
       "dtype: float64"
      ]
     },
     "execution_count": 7,
     "metadata": {},
     "output_type": "execute_result"
    }
   ],
   "source": [
    "df.isnull().mean()*100"
   ]
  },
  {
   "cell_type": "code",
   "execution_count": 8,
   "id": "adf45295",
   "metadata": {},
   "outputs": [
    {
     "name": "stdout",
     "output_type": "stream",
     "text": [
      "<class 'pandas.core.frame.DataFrame'>\n",
      "Int64Index: 3138 entries, 0 to 3257\n",
      "Data columns (total 7 columns):\n",
      " #   Column  Non-Null Count  Dtype  \n",
      "---  ------  --------------  -----  \n",
      " 0   Date    3138 non-null   object \n",
      " 1   Price   3138 non-null   float64\n",
      " 2   Open    3138 non-null   float64\n",
      " 3   High    3138 non-null   float64\n",
      " 4   Low     3138 non-null   object \n",
      " 5   Volume  3138 non-null   object \n",
      " 6   Chg%    3138 non-null   object \n",
      "dtypes: float64(3), object(4)\n",
      "memory usage: 196.1+ KB\n"
     ]
    }
   ],
   "source": [
    "df.info()"
   ]
  },
  {
   "cell_type": "code",
   "execution_count": 9,
   "id": "5ea4ec61",
   "metadata": {},
   "outputs": [],
   "source": [
    "def outlier(col):\n",
    "    Q3, Q1= np.nanpercentile(col,[75,25])\n",
    "    iqr=Q3-Q1\n",
    "    ul=Q3+1.5*iqr\n",
    "    ll=Q1-1.5*iqr\n",
    "    return ul, ll"
   ]
  },
  {
   "cell_type": "code",
   "execution_count": 10,
   "id": "a3b39c50",
   "metadata": {},
   "outputs": [],
   "source": [
    "for column in df.columns:\n",
    "    if df[column].dtype !=\"object\":\n",
    "        ul,ll=outlier(df[column])\n",
    "        df[column]=np.where((df[column]>ul)|(df[column]<ll),np.nan,df[column])"
   ]
  },
  {
   "cell_type": "code",
   "execution_count": 11,
   "id": "58daa890",
   "metadata": {},
   "outputs": [
    {
     "data": {
      "image/png": "[encoded data removed]",
      "text/plain": [
       "<Figure size 640x480 with 1 Axes>"
      ]
     },
     "metadata": {},
     "output_type": "display_data"
    },
    {
     "data": {
      "image/png": "[encoded data removed]",
      "text/plain": [
       "<Figure size 640x480 with 1 Axes>"
      ]
     },
     "metadata": {},
     "output_type": "display_data"
    },
    {
     "data": {
      "image/png": "[encoded data removed]",
      "text/plain": [
       "<Figure size 640x480 with 1 Axes>"
      ]
     },
     "metadata": {},
     "output_type": "display_data"
    }
   ],
   "source": [
    "for i in df.columns:\n",
    "    if df[i].dtype !=\"object\":\n",
    "        sns.boxplot(y=df[i],color=\"green\")\n",
    "        plt.show()"
   ]
  },
  {
   "cell_type": "code",
   "execution_count": 14,
   "id": "e2572a66",
   "metadata": {},
   "outputs": [],
   "source": [
    "from sklearn.model_selection import train_test_split"
   ]
  },
  {
   "cell_type": "code",
   "execution_count": 17,
   "id": "0b442b3d",
   "metadata": {},
   "outputs": [
    {
     "data": {
      "text/plain": [
       "array([[ 1.78],\n",
       "       [ 2.93],\n",
       "       [14.46],\n",
       "       ...,\n",
       "       [  nan],\n",
       "       [  nan],\n",
       "       [  nan]])"
      ]
     },
     "execution_count": 17,
     "metadata": {},
     "output_type": "execute_result"
    }
   ],
   "source": [
    "x=df[[\"Price\"]].values\n",
    "x"
   ]
  },
  {
   "cell_type": "code",
   "execution_count": 16,
   "id": "e9c9b538",
   "metadata": {},
   "outputs": [],
   "source": [
    "df[\"Price\"]=df[\"Price\"].dropna()"
   ]
  },
  {
   "cell_type": "code",
   "execution_count": 20,
   "id": "ae9ce4df",
   "metadata": {},
   "outputs": [
    {
     "data": {
      "text/html": [
       "<div>\n",
       "<style scoped>\n",
       "    .dataframe tbody tr th:only-of-type {\n",
       "        vertical-align: middle;\n",
       "    }\n",
       "\n",
       "    .dataframe tbody tr th {\n",
       "        vertical-align: top;\n",
       "    }\n",
       "\n",
       "    .dataframe thead th {\n",
       "        text-align: right;\n",
       "    }\n",
       "</style>\n",
       "<table border=\"1\" class=\"dataframe\">\n",
       "  <thead>\n",
       "    <tr style=\"text-align: right;\">\n",
       "      <th></th>\n",
       "      <th>Date</th>\n",
       "      <th>Price</th>\n",
       "      <th>Open</th>\n",
       "      <th>High</th>\n",
       "      <th>Low</th>\n",
       "      <th>Volume</th>\n",
       "      <th>Chg%</th>\n",
       "    </tr>\n",
       "  </thead>\n",
       "  <tbody>\n",
       "    <tr>\n",
       "      <th>0</th>\n",
       "      <td>1-Apr-11</td>\n",
       "      <td>1.78</td>\n",
       "      <td>1.83</td>\n",
       "      <td>1.88</td>\n",
       "      <td>1.77</td>\n",
       "      <td>42.98M</td>\n",
       "      <td>-3.78%</td>\n",
       "    </tr>\n",
       "    <tr>\n",
       "      <th>1</th>\n",
       "      <td>1-Apr-13</td>\n",
       "      <td>2.93</td>\n",
       "      <td>2.82</td>\n",
       "      <td>3.11</td>\n",
       "      <td>2.78</td>\n",
       "      <td>211.59M</td>\n",
       "      <td>15.81%</td>\n",
       "    </tr>\n",
       "    <tr>\n",
       "      <th>2</th>\n",
       "      <td>1-Apr-14</td>\n",
       "      <td>14.46</td>\n",
       "      <td>13.93</td>\n",
       "      <td>14.54</td>\n",
       "      <td>13.91</td>\n",
       "      <td>110.57M</td>\n",
       "      <td>4.03%</td>\n",
       "    </tr>\n",
       "    <tr>\n",
       "      <th>3</th>\n",
       "      <td>1-Apr-15</td>\n",
       "      <td>12.51</td>\n",
       "      <td>12.58</td>\n",
       "      <td>12.82</td>\n",
       "      <td>12.4</td>\n",
       "      <td>56.92M</td>\n",
       "      <td>-0.56%</td>\n",
       "    </tr>\n",
       "    <tr>\n",
       "      <th>4</th>\n",
       "      <td>1-Apr-16</td>\n",
       "      <td>15.84</td>\n",
       "      <td>16.32</td>\n",
       "      <td>16.53</td>\n",
       "      <td>15.55</td>\n",
       "      <td>239.96M</td>\n",
       "      <td>3.39%</td>\n",
       "    </tr>\n",
       "    <tr>\n",
       "      <th>...</th>\n",
       "      <td>...</td>\n",
       "      <td>...</td>\n",
       "      <td>...</td>\n",
       "      <td>...</td>\n",
       "      <td>...</td>\n",
       "      <td>...</td>\n",
       "      <td>...</td>\n",
       "    </tr>\n",
       "    <tr>\n",
       "      <th>3250</th>\n",
       "      <td>30-Sep-13</td>\n",
       "      <td>12.89</td>\n",
       "      <td>12.60</td>\n",
       "      <td>12.97</td>\n",
       "      <td>12.53</td>\n",
       "      <td>134.02M</td>\n",
       "      <td>1.26%</td>\n",
       "    </tr>\n",
       "    <tr>\n",
       "      <th>3251</th>\n",
       "      <td>30-Sep-14</td>\n",
       "      <td>16.18</td>\n",
       "      <td>16.46</td>\n",
       "      <td>16.51</td>\n",
       "      <td>16.01</td>\n",
       "      <td>63.72M</td>\n",
       "      <td>-1.04%</td>\n",
       "    </tr>\n",
       "    <tr>\n",
       "      <th>3252</th>\n",
       "      <td>30-Sep-15</td>\n",
       "      <td>16.56</td>\n",
       "      <td>16.80</td>\n",
       "      <td>16.83</td>\n",
       "      <td>16.16</td>\n",
       "      <td>73.94M</td>\n",
       "      <td>0.73%</td>\n",
       "    </tr>\n",
       "    <tr>\n",
       "      <th>3253</th>\n",
       "      <td>30-Sep-16</td>\n",
       "      <td>13.60</td>\n",
       "      <td>13.48</td>\n",
       "      <td>13.67</td>\n",
       "      <td>13.3</td>\n",
       "      <td>38.79M</td>\n",
       "      <td>1.64%</td>\n",
       "    </tr>\n",
       "    <tr>\n",
       "      <th>3254</th>\n",
       "      <td>30-Sep-19</td>\n",
       "      <td>16.06</td>\n",
       "      <td>16.20</td>\n",
       "      <td>16.27</td>\n",
       "      <td>15.74</td>\n",
       "      <td>89.19M</td>\n",
       "      <td>-0.50%</td>\n",
       "    </tr>\n",
       "  </tbody>\n",
       "</table>\n",
       "<p>2424 rows × 7 columns</p>\n",
       "</div>"
      ],
      "text/plain": [
       "           Date  Price   Open   High    Low   Volume    Chg%\n",
       "0      1-Apr-11   1.78   1.83   1.88   1.77   42.98M  -3.78%\n",
       "1      1-Apr-13   2.93   2.82   3.11   2.78  211.59M  15.81%\n",
       "2      1-Apr-14  14.46  13.93  14.54  13.91  110.57M   4.03%\n",
       "3      1-Apr-15  12.51  12.58  12.82   12.4   56.92M  -0.56%\n",
       "4      1-Apr-16  15.84  16.32  16.53  15.55  239.96M   3.39%\n",
       "...         ...    ...    ...    ...    ...      ...     ...\n",
       "3250  30-Sep-13  12.89  12.60  12.97  12.53  134.02M   1.26%\n",
       "3251  30-Sep-14  16.18  16.46  16.51  16.01   63.72M  -1.04%\n",
       "3252  30-Sep-15  16.56  16.80  16.83  16.16   73.94M   0.73%\n",
       "3253  30-Sep-16  13.60  13.48  13.67   13.3   38.79M   1.64%\n",
       "3254  30-Sep-19  16.06  16.20  16.27  15.74   89.19M  -0.50%\n",
       "\n",
       "[2424 rows x 7 columns]"
      ]
     },
     "execution_count": 20,
     "metadata": {},
     "output_type": "execute_result"
    }
   ],
   "source": [
    "df.dropna(inplace=True)\n",
    "df"
   ]
  },
  {
   "cell_type": "code",
   "execution_count": 21,
   "id": "0877d46c",
   "metadata": {},
   "outputs": [
    {
     "data": {
      "text/plain": [
       "Date      0\n",
       "Price     0\n",
       "Open      0\n",
       "High      0\n",
       "Low       0\n",
       "Volume    0\n",
       "Chg%      0\n",
       "dtype: int64"
      ]
     },
     "execution_count": 21,
     "metadata": {},
     "output_type": "execute_result"
    }
   ],
   "source": [
    "df.isnull().sum()"
   ]
  },
  {
   "cell_type": "code",
   "execution_count": 23,
   "id": "7d25093f",
   "metadata": {},
   "outputs": [
    {
     "data": {
      "text/plain": [
       "array([[ 1.78],\n",
       "       [ 2.93],\n",
       "       [14.46],\n",
       "       ...,\n",
       "       [16.56],\n",
       "       [13.6 ],\n",
       "       [16.06]])"
      ]
     },
     "execution_count": 23,
     "metadata": {},
     "output_type": "execute_result"
    }
   ],
   "source": [
    "x=df[['Price']].values\n",
    "x"
   ]
  },
  {
   "cell_type": "code",
   "execution_count": 25,
   "id": "ad9b8d42",
   "metadata": {},
   "outputs": [
    {
     "data": {
      "text/plain": [
       "array([[ 1.83],\n",
       "       [ 2.82],\n",
       "       [13.93],\n",
       "       ...,\n",
       "       [16.8 ],\n",
       "       [13.48],\n",
       "       [16.2 ]])"
      ]
     },
     "execution_count": 25,
     "metadata": {},
     "output_type": "execute_result"
    }
   ],
   "source": [
    "y=df[['Open']].values\n",
    "y"
   ]
  },
  {
   "cell_type": "code",
   "execution_count": 34,
   "id": "668f2664",
   "metadata": {},
   "outputs": [],
   "source": [
    "from sklearn.preprocessing import StandardScaler as sc\n",
    "from sklearn.linear_model import LinearRegression\n"
   ]
  },
  {
   "cell_type": "code",
   "execution_count": 28,
   "id": "0d05de63",
   "metadata": {},
   "outputs": [],
   "source": [
    "sc=StandardScaler()"
   ]
  },
  {
   "cell_type": "code",
   "execution_count": 30,
   "id": "908d0861",
   "metadata": {},
   "outputs": [
    {
     "data": {
      "text/plain": [
       "array([[-1.29041289],\n",
       "       [-1.15507083],\n",
       "       [ 0.20188038],\n",
       "       ...,\n",
       "       [ 0.44902674],\n",
       "       [ 0.10066806],\n",
       "       [ 0.39018237]])"
      ]
     },
     "execution_count": 30,
     "metadata": {},
     "output_type": "execute_result"
    }
   ],
   "source": [
    "x=sc.fit_transform(x)\n",
    "x"
   ]
  },
  {
   "cell_type": "code",
   "execution_count": 31,
   "id": "26c74cc7",
   "metadata": {},
   "outputs": [
    {
     "data": {
      "text/plain": [
       "array([[ 1.83],\n",
       "       [ 2.82],\n",
       "       [13.93],\n",
       "       ...,\n",
       "       [16.8 ],\n",
       "       [13.48],\n",
       "       [16.2 ]])"
      ]
     },
     "execution_count": 31,
     "metadata": {},
     "output_type": "execute_result"
    }
   ],
   "source": [
    "y"
   ]
  },
  {
   "cell_type": "code",
   "execution_count": 32,
   "id": "2c029c24",
   "metadata": {},
   "outputs": [],
   "source": [
    "x_train,x_test,y_train,y_test=train_test_split(x,y,test_size=0.2, random_state=0)"
   ]
  },
  {
   "cell_type": "code",
   "execution_count": 35,
   "id": "02666e60",
   "metadata": {},
   "outputs": [],
   "source": [
    "model=LinearRegression()"
   ]
  },
  {
   "cell_type": "code",
   "execution_count": 36,
   "id": "478289e2",
   "metadata": {},
   "outputs": [
    {
     "data": {
      "text/plain": [
       "LinearRegression()"
      ]
     },
     "execution_count": 36,
     "metadata": {},
     "output_type": "execute_result"
    }
   ],
   "source": [
    "model.fit(x_train,y_train)"
   ]
  },
  {
   "cell_type": "code",
   "execution_count": 37,
   "id": "797fe89b",
   "metadata": {},
   "outputs": [
    {
     "data": {
      "text/plain": [
       "99.77808870871736"
      ]
     },
     "execution_count": 37,
     "metadata": {},
     "output_type": "execute_result"
    }
   ],
   "source": [
    "train_score =model.score(x_train,y_train)*100\n",
    "train_score"
   ]
  },
  {
   "cell_type": "code",
   "execution_count": 38,
   "id": "a3dbcaae",
   "metadata": {},
   "outputs": [
    {
     "data": {
      "text/plain": [
       "99.77197787151367"
      ]
     },
     "execution_count": 38,
     "metadata": {},
     "output_type": "execute_result"
    }
   ],
   "source": [
    "test_score =model.score(x_test,y_test)*100\n",
    "test_score"
   ]
  },
  {
   "cell_type": "code",
   "execution_count": 39,
   "id": "3d128b8a",
   "metadata": {},
   "outputs": [
    {
     "data": {
      "text/plain": [
       "array([[8.48773342]])"
      ]
     },
     "execution_count": 39,
     "metadata": {},
     "output_type": "execute_result"
    }
   ],
   "source": [
    "model.coef_"
   ]
  },
  {
   "cell_type": "code",
   "execution_count": 40,
   "id": "13b9039a",
   "metadata": {},
   "outputs": [
    {
     "data": {
      "text/plain": [
       "array([12.74305846])"
      ]
     },
     "execution_count": 40,
     "metadata": {},
     "output_type": "execute_result"
    }
   ],
   "source": [
    "model.intercept_"
   ]
  },
  {
   "cell_type": "code",
   "execution_count": null,
   "id": "9963733e",
   "metadata": {},
   "outputs": [],
   "source": []
  }
 ],
 "metadata": {
  "kernelspec": {
   "display_name": "Python 3 (ipykernel)",
   "language": "python",
   "name": "python3"
  },
  "language_info": {
   "codemirror_mode": {
    "name": "ipython",
    "version": 3
   },
   "file_extension": ".py",
   "mimetype": "text/x-python",
   "name": "python",
   "nbconvert_exporter": "python",
   "pygments_lexer": "ipython3",
   "version": "3.9.13"
  }
 },
 "nbformat": 4,
 "nbformat_minor": 5
}
