{
 "cells": [
  {
   "cell_type": "code",
   "execution_count": 1,
   "id": "bd2b1d76",
   "metadata": {},
   "outputs": [],
   "source": [
    "import pandas as pd\n",
    "import numpy as np\n",
    "import seaborn as sns\n",
    "import warnings\n",
    "warnings.filterwarnings(\"ignore\")\n",
    "import matplotlib.pyplot as plt"
   ]
  },
  {
   "cell_type": "code",
   "execution_count": 2,
   "id": "6c748981",
   "metadata": {},
   "outputs": [],
   "source": [
    "df=pd.read_csv(\"Windspeed (1).csv\")"
   ]
  },
  {
   "cell_type": "code",
   "execution_count": 3,
   "id": "00184efe",
   "metadata": {},
   "outputs": [
    {
     "data": {
      "text/html": [
       "<div>\n",
       "<style scoped>\n",
       "    .dataframe tbody tr th:only-of-type {\n",
       "        vertical-align: middle;\n",
       "    }\n",
       "\n",
       "    .dataframe tbody tr th {\n",
       "        vertical-align: top;\n",
       "    }\n",
       "\n",
       "    .dataframe thead th {\n",
       "        text-align: right;\n",
       "    }\n",
       "</style>\n",
       "<table border=\"1\" class=\"dataframe\">\n",
       "  <thead>\n",
       "    <tr style=\"text-align: right;\">\n",
       "      <th></th>\n",
       "      <th>Date</th>\n",
       "      <th>Temperature</th>\n",
       "      <th>Windspeed</th>\n",
       "      <th>Status</th>\n",
       "    </tr>\n",
       "  </thead>\n",
       "  <tbody>\n",
       "    <tr>\n",
       "      <th>0</th>\n",
       "      <td>06-05-2020</td>\n",
       "      <td>35.4</td>\n",
       "      <td>10.788</td>\n",
       "      <td>sunny</td>\n",
       "    </tr>\n",
       "    <tr>\n",
       "      <th>1</th>\n",
       "      <td>07-05-2020</td>\n",
       "      <td>36.7</td>\n",
       "      <td>NaN</td>\n",
       "      <td>sunny</td>\n",
       "    </tr>\n",
       "    <tr>\n",
       "      <th>2</th>\n",
       "      <td>08-05-2020</td>\n",
       "      <td>NaN</td>\n",
       "      <td>6.880</td>\n",
       "      <td>NaN</td>\n",
       "    </tr>\n",
       "    <tr>\n",
       "      <th>3</th>\n",
       "      <td>NaN</td>\n",
       "      <td>30.4</td>\n",
       "      <td>NaN</td>\n",
       "      <td>cloudy</td>\n",
       "    </tr>\n",
       "    <tr>\n",
       "      <th>4</th>\n",
       "      <td>10-05-2020</td>\n",
       "      <td>NaN</td>\n",
       "      <td>19.055</td>\n",
       "      <td>rainy</td>\n",
       "    </tr>\n",
       "    <tr>\n",
       "      <th>5</th>\n",
       "      <td>11-05-2020</td>\n",
       "      <td>24.2</td>\n",
       "      <td>13.900</td>\n",
       "      <td>sunny</td>\n",
       "    </tr>\n",
       "    <tr>\n",
       "      <th>6</th>\n",
       "      <td>12-05-2020</td>\n",
       "      <td>22.7</td>\n",
       "      <td>NaN</td>\n",
       "      <td>NaN</td>\n",
       "    </tr>\n",
       "    <tr>\n",
       "      <th>7</th>\n",
       "      <td>13-05-2020</td>\n",
       "      <td>35.4</td>\n",
       "      <td>10.788</td>\n",
       "      <td>sunny</td>\n",
       "    </tr>\n",
       "    <tr>\n",
       "      <th>8</th>\n",
       "      <td>NaN</td>\n",
       "      <td>26.3</td>\n",
       "      <td>8.658</td>\n",
       "      <td>NaN</td>\n",
       "    </tr>\n",
       "    <tr>\n",
       "      <th>9</th>\n",
       "      <td>15-05-2020</td>\n",
       "      <td>22.4</td>\n",
       "      <td>14.884</td>\n",
       "      <td>sunny</td>\n",
       "    </tr>\n",
       "    <tr>\n",
       "      <th>10</th>\n",
       "      <td>NaN</td>\n",
       "      <td>NaN</td>\n",
       "      <td>NaN</td>\n",
       "      <td>sunny</td>\n",
       "    </tr>\n",
       "    <tr>\n",
       "      <th>11</th>\n",
       "      <td>17-05-2020</td>\n",
       "      <td>23.5</td>\n",
       "      <td>16.555</td>\n",
       "      <td>rainy</td>\n",
       "    </tr>\n",
       "    <tr>\n",
       "      <th>12</th>\n",
       "      <td>18-05-2020</td>\n",
       "      <td>NaN</td>\n",
       "      <td>25.664</td>\n",
       "      <td>NaN</td>\n",
       "    </tr>\n",
       "    <tr>\n",
       "      <th>13</th>\n",
       "      <td>19-05-2020</td>\n",
       "      <td>30.2</td>\n",
       "      <td>14.258</td>\n",
       "      <td>cloudy</td>\n",
       "    </tr>\n",
       "    <tr>\n",
       "      <th>14</th>\n",
       "      <td>20-05-2020</td>\n",
       "      <td>NaN</td>\n",
       "      <td>17.256</td>\n",
       "      <td>rainy</td>\n",
       "    </tr>\n",
       "    <tr>\n",
       "      <th>15</th>\n",
       "      <td>NaN</td>\n",
       "      <td>33.4</td>\n",
       "      <td>NaN</td>\n",
       "      <td>sunny</td>\n",
       "    </tr>\n",
       "    <tr>\n",
       "      <th>16</th>\n",
       "      <td>22-05-2020</td>\n",
       "      <td>NaN</td>\n",
       "      <td>12.222</td>\n",
       "      <td>NaN</td>\n",
       "    </tr>\n",
       "    <tr>\n",
       "      <th>17</th>\n",
       "      <td>23-05-2020</td>\n",
       "      <td>28.5</td>\n",
       "      <td>13.525</td>\n",
       "      <td>sunny</td>\n",
       "    </tr>\n",
       "    <tr>\n",
       "      <th>18</th>\n",
       "      <td>24-05-2020</td>\n",
       "      <td>27.6</td>\n",
       "      <td>5.899</td>\n",
       "      <td>NaN</td>\n",
       "    </tr>\n",
       "    <tr>\n",
       "      <th>19</th>\n",
       "      <td>25-05-2020</td>\n",
       "      <td>26.7</td>\n",
       "      <td>NaN</td>\n",
       "      <td>sunny</td>\n",
       "    </tr>\n",
       "    <tr>\n",
       "      <th>20</th>\n",
       "      <td>26-05-2020</td>\n",
       "      <td>34.4</td>\n",
       "      <td>16.258</td>\n",
       "      <td>rainy</td>\n",
       "    </tr>\n",
       "    <tr>\n",
       "      <th>21</th>\n",
       "      <td>27-05-2020</td>\n",
       "      <td>33.9</td>\n",
       "      <td>14.363</td>\n",
       "      <td>cloudy</td>\n",
       "    </tr>\n",
       "  </tbody>\n",
       "</table>\n",
       "</div>"
      ],
      "text/plain": [
       "          Date  Temperature  Windspeed  Status\n",
       "0   06-05-2020         35.4     10.788   sunny\n",
       "1   07-05-2020         36.7        NaN   sunny\n",
       "2   08-05-2020          NaN      6.880     NaN\n",
       "3          NaN         30.4        NaN  cloudy\n",
       "4   10-05-2020          NaN     19.055   rainy\n",
       "5   11-05-2020         24.2     13.900   sunny\n",
       "6   12-05-2020         22.7        NaN     NaN\n",
       "7   13-05-2020         35.4     10.788   sunny\n",
       "8          NaN         26.3      8.658     NaN\n",
       "9   15-05-2020         22.4     14.884   sunny\n",
       "10         NaN          NaN        NaN   sunny\n",
       "11  17-05-2020         23.5     16.555   rainy\n",
       "12  18-05-2020          NaN     25.664     NaN\n",
       "13  19-05-2020         30.2     14.258  cloudy\n",
       "14  20-05-2020          NaN     17.256   rainy\n",
       "15         NaN         33.4        NaN   sunny\n",
       "16  22-05-2020          NaN     12.222     NaN\n",
       "17  23-05-2020         28.5     13.525   sunny\n",
       "18  24-05-2020         27.6      5.899     NaN\n",
       "19  25-05-2020         26.7        NaN   sunny\n",
       "20  26-05-2020         34.4     16.258   rainy\n",
       "21  27-05-2020         33.9     14.363  cloudy"
      ]
     },
     "execution_count": 3,
     "metadata": {},
     "output_type": "execute_result"
    }
   ],
   "source": [
    "df"
   ]
  },
  {
   "cell_type": "code",
   "execution_count": 4,
   "id": "be2d61dc",
   "metadata": {},
   "outputs": [
    {
     "name": "stdout",
     "output_type": "stream",
     "text": [
      "<class 'pandas.core.frame.DataFrame'>\n",
      "RangeIndex: 22 entries, 0 to 21\n",
      "Data columns (total 4 columns):\n",
      " #   Column       Non-Null Count  Dtype  \n",
      "---  ------       --------------  -----  \n",
      " 0   Date         18 non-null     object \n",
      " 1   Temperature  16 non-null     float64\n",
      " 2   Windspeed    16 non-null     float64\n",
      " 3   Status       16 non-null     object \n",
      "dtypes: float64(2), object(2)\n",
      "memory usage: 832.0+ bytes\n"
     ]
    }
   ],
   "source": [
    "df.info()"
   ]
  },
  {
   "cell_type": "code",
   "execution_count": 5,
   "id": "d8a6862a",
   "metadata": {},
   "outputs": [
    {
     "data": {
      "text/plain": [
       "Date           4\n",
       "Temperature    6\n",
       "Windspeed      6\n",
       "Status         6\n",
       "dtype: int64"
      ]
     },
     "execution_count": 5,
     "metadata": {},
     "output_type": "execute_result"
    }
   ],
   "source": [
    "df.isnull().sum()"
   ]
  },
  {
   "cell_type": "code",
   "execution_count": 6,
   "id": "710ea834",
   "metadata": {},
   "outputs": [
    {
     "data": {
      "text/plain": [
       "count    16.00000\n",
       "mean     29.48125\n",
       "std       4.93129\n",
       "min      22.40000\n",
       "25%      25.77500\n",
       "50%      29.35000\n",
       "75%      34.02500\n",
       "max      36.70000\n",
       "Name: Temperature, dtype: float64"
      ]
     },
     "execution_count": 6,
     "metadata": {},
     "output_type": "execute_result"
    }
   ],
   "source": [
    "df['Temperature'].describe()"
   ]
  },
  {
   "cell_type": "code",
   "execution_count": 7,
   "id": "2ae089fd",
   "metadata": {},
   "outputs": [
    {
     "data": {
      "text/plain": [
       "29.35"
      ]
     },
     "execution_count": 7,
     "metadata": {},
     "output_type": "execute_result"
    }
   ],
   "source": [
    "m=df['Temperature'].median()\n",
    "m"
   ]
  },
  {
   "cell_type": "code",
   "execution_count": 8,
   "id": "aefae4a8",
   "metadata": {},
   "outputs": [],
   "source": [
    "df['Temperature'].replace(np.nan,m,inplace=True)"
   ]
  },
  {
   "cell_type": "code",
   "execution_count": 9,
   "id": "6a171ca4",
   "metadata": {},
   "outputs": [
    {
     "data": {
      "text/plain": [
       "14.079"
      ]
     },
     "execution_count": 9,
     "metadata": {},
     "output_type": "execute_result"
    }
   ],
   "source": [
    "f=df['Windspeed'].median()\n",
    "f"
   ]
  },
  {
   "cell_type": "code",
   "execution_count": 10,
   "id": "a209ed3c",
   "metadata": {},
   "outputs": [],
   "source": [
    "df[\"Windspeed\"].replace(np.nan,f,inplace=True)\n"
   ]
  },
  {
   "cell_type": "code",
   "execution_count": 11,
   "id": "562efc6b",
   "metadata": {},
   "outputs": [
    {
     "data": {
      "text/plain": [
       "'sunny'"
      ]
     },
     "execution_count": 11,
     "metadata": {},
     "output_type": "execute_result"
    }
   ],
   "source": [
    "v=df['Status'].mode()[0]\n",
    "v"
   ]
  },
  {
   "cell_type": "code",
   "execution_count": 12,
   "id": "3b4b28d3",
   "metadata": {},
   "outputs": [],
   "source": [
    "df[\"Status\"].replace(np.nan,v,inplace=True)"
   ]
  },
  {
   "cell_type": "code",
   "execution_count": 13,
   "id": "f46401cd",
   "metadata": {},
   "outputs": [
    {
     "data": {
      "text/html": [
       "<div>\n",
       "<style scoped>\n",
       "    .dataframe tbody tr th:only-of-type {\n",
       "        vertical-align: middle;\n",
       "    }\n",
       "\n",
       "    .dataframe tbody tr th {\n",
       "        vertical-align: top;\n",
       "    }\n",
       "\n",
       "    .dataframe thead th {\n",
       "        text-align: right;\n",
       "    }\n",
       "</style>\n",
       "<table border=\"1\" class=\"dataframe\">\n",
       "  <thead>\n",
       "    <tr style=\"text-align: right;\">\n",
       "      <th></th>\n",
       "      <th>Date</th>\n",
       "      <th>Temperature</th>\n",
       "      <th>Windspeed</th>\n",
       "      <th>Status</th>\n",
       "    </tr>\n",
       "  </thead>\n",
       "  <tbody>\n",
       "    <tr>\n",
       "      <th>0</th>\n",
       "      <td>06-05-2020</td>\n",
       "      <td>35.40</td>\n",
       "      <td>10.788</td>\n",
       "      <td>sunny</td>\n",
       "    </tr>\n",
       "    <tr>\n",
       "      <th>1</th>\n",
       "      <td>07-05-2020</td>\n",
       "      <td>36.70</td>\n",
       "      <td>14.079</td>\n",
       "      <td>sunny</td>\n",
       "    </tr>\n",
       "    <tr>\n",
       "      <th>2</th>\n",
       "      <td>08-05-2020</td>\n",
       "      <td>29.35</td>\n",
       "      <td>6.880</td>\n",
       "      <td>sunny</td>\n",
       "    </tr>\n",
       "    <tr>\n",
       "      <th>3</th>\n",
       "      <td>NaN</td>\n",
       "      <td>30.40</td>\n",
       "      <td>14.079</td>\n",
       "      <td>cloudy</td>\n",
       "    </tr>\n",
       "    <tr>\n",
       "      <th>4</th>\n",
       "      <td>10-05-2020</td>\n",
       "      <td>29.35</td>\n",
       "      <td>19.055</td>\n",
       "      <td>rainy</td>\n",
       "    </tr>\n",
       "    <tr>\n",
       "      <th>5</th>\n",
       "      <td>11-05-2020</td>\n",
       "      <td>24.20</td>\n",
       "      <td>13.900</td>\n",
       "      <td>sunny</td>\n",
       "    </tr>\n",
       "    <tr>\n",
       "      <th>6</th>\n",
       "      <td>12-05-2020</td>\n",
       "      <td>22.70</td>\n",
       "      <td>14.079</td>\n",
       "      <td>sunny</td>\n",
       "    </tr>\n",
       "    <tr>\n",
       "      <th>7</th>\n",
       "      <td>13-05-2020</td>\n",
       "      <td>35.40</td>\n",
       "      <td>10.788</td>\n",
       "      <td>sunny</td>\n",
       "    </tr>\n",
       "    <tr>\n",
       "      <th>8</th>\n",
       "      <td>NaN</td>\n",
       "      <td>26.30</td>\n",
       "      <td>8.658</td>\n",
       "      <td>sunny</td>\n",
       "    </tr>\n",
       "    <tr>\n",
       "      <th>9</th>\n",
       "      <td>15-05-2020</td>\n",
       "      <td>22.40</td>\n",
       "      <td>14.884</td>\n",
       "      <td>sunny</td>\n",
       "    </tr>\n",
       "    <tr>\n",
       "      <th>10</th>\n",
       "      <td>NaN</td>\n",
       "      <td>29.35</td>\n",
       "      <td>14.079</td>\n",
       "      <td>sunny</td>\n",
       "    </tr>\n",
       "    <tr>\n",
       "      <th>11</th>\n",
       "      <td>17-05-2020</td>\n",
       "      <td>23.50</td>\n",
       "      <td>16.555</td>\n",
       "      <td>rainy</td>\n",
       "    </tr>\n",
       "    <tr>\n",
       "      <th>12</th>\n",
       "      <td>18-05-2020</td>\n",
       "      <td>29.35</td>\n",
       "      <td>25.664</td>\n",
       "      <td>sunny</td>\n",
       "    </tr>\n",
       "    <tr>\n",
       "      <th>13</th>\n",
       "      <td>19-05-2020</td>\n",
       "      <td>30.20</td>\n",
       "      <td>14.258</td>\n",
       "      <td>cloudy</td>\n",
       "    </tr>\n",
       "    <tr>\n",
       "      <th>14</th>\n",
       "      <td>20-05-2020</td>\n",
       "      <td>29.35</td>\n",
       "      <td>17.256</td>\n",
       "      <td>rainy</td>\n",
       "    </tr>\n",
       "    <tr>\n",
       "      <th>15</th>\n",
       "      <td>NaN</td>\n",
       "      <td>33.40</td>\n",
       "      <td>14.079</td>\n",
       "      <td>sunny</td>\n",
       "    </tr>\n",
       "    <tr>\n",
       "      <th>16</th>\n",
       "      <td>22-05-2020</td>\n",
       "      <td>29.35</td>\n",
       "      <td>12.222</td>\n",
       "      <td>sunny</td>\n",
       "    </tr>\n",
       "    <tr>\n",
       "      <th>17</th>\n",
       "      <td>23-05-2020</td>\n",
       "      <td>28.50</td>\n",
       "      <td>13.525</td>\n",
       "      <td>sunny</td>\n",
       "    </tr>\n",
       "    <tr>\n",
       "      <th>18</th>\n",
       "      <td>24-05-2020</td>\n",
       "      <td>27.60</td>\n",
       "      <td>5.899</td>\n",
       "      <td>sunny</td>\n",
       "    </tr>\n",
       "    <tr>\n",
       "      <th>19</th>\n",
       "      <td>25-05-2020</td>\n",
       "      <td>26.70</td>\n",
       "      <td>14.079</td>\n",
       "      <td>sunny</td>\n",
       "    </tr>\n",
       "    <tr>\n",
       "      <th>20</th>\n",
       "      <td>26-05-2020</td>\n",
       "      <td>34.40</td>\n",
       "      <td>16.258</td>\n",
       "      <td>rainy</td>\n",
       "    </tr>\n",
       "    <tr>\n",
       "      <th>21</th>\n",
       "      <td>27-05-2020</td>\n",
       "      <td>33.90</td>\n",
       "      <td>14.363</td>\n",
       "      <td>cloudy</td>\n",
       "    </tr>\n",
       "  </tbody>\n",
       "</table>\n",
       "</div>"
      ],
      "text/plain": [
       "          Date  Temperature  Windspeed  Status\n",
       "0   06-05-2020        35.40     10.788   sunny\n",
       "1   07-05-2020        36.70     14.079   sunny\n",
       "2   08-05-2020        29.35      6.880   sunny\n",
       "3          NaN        30.40     14.079  cloudy\n",
       "4   10-05-2020        29.35     19.055   rainy\n",
       "5   11-05-2020        24.20     13.900   sunny\n",
       "6   12-05-2020        22.70     14.079   sunny\n",
       "7   13-05-2020        35.40     10.788   sunny\n",
       "8          NaN        26.30      8.658   sunny\n",
       "9   15-05-2020        22.40     14.884   sunny\n",
       "10         NaN        29.35     14.079   sunny\n",
       "11  17-05-2020        23.50     16.555   rainy\n",
       "12  18-05-2020        29.35     25.664   sunny\n",
       "13  19-05-2020        30.20     14.258  cloudy\n",
       "14  20-05-2020        29.35     17.256   rainy\n",
       "15         NaN        33.40     14.079   sunny\n",
       "16  22-05-2020        29.35     12.222   sunny\n",
       "17  23-05-2020        28.50     13.525   sunny\n",
       "18  24-05-2020        27.60      5.899   sunny\n",
       "19  25-05-2020        26.70     14.079   sunny\n",
       "20  26-05-2020        34.40     16.258   rainy\n",
       "21  27-05-2020        33.90     14.363  cloudy"
      ]
     },
     "execution_count": 13,
     "metadata": {},
     "output_type": "execute_result"
    }
   ],
   "source": [
    "df"
   ]
  },
  {
   "cell_type": "code",
   "execution_count": 14,
   "id": "3e55e8a6",
   "metadata": {},
   "outputs": [],
   "source": [
    "df[\"Date\"]=df[\"Date\"].ffill()"
   ]
  },
  {
   "cell_type": "code",
   "execution_count": 15,
   "id": "17ff7e2c",
   "metadata": {},
   "outputs": [
    {
     "data": {
      "text/html": [
       "<div>\n",
       "<style scoped>\n",
       "    .dataframe tbody tr th:only-of-type {\n",
       "        vertical-align: middle;\n",
       "    }\n",
       "\n",
       "    .dataframe tbody tr th {\n",
       "        vertical-align: top;\n",
       "    }\n",
       "\n",
       "    .dataframe thead th {\n",
       "        text-align: right;\n",
       "    }\n",
       "</style>\n",
       "<table border=\"1\" class=\"dataframe\">\n",
       "  <thead>\n",
       "    <tr style=\"text-align: right;\">\n",
       "      <th></th>\n",
       "      <th>Date</th>\n",
       "      <th>Temperature</th>\n",
       "      <th>Windspeed</th>\n",
       "      <th>Status</th>\n",
       "    </tr>\n",
       "  </thead>\n",
       "  <tbody>\n",
       "    <tr>\n",
       "      <th>0</th>\n",
       "      <td>06-05-2020</td>\n",
       "      <td>35.40</td>\n",
       "      <td>10.788</td>\n",
       "      <td>sunny</td>\n",
       "    </tr>\n",
       "    <tr>\n",
       "      <th>1</th>\n",
       "      <td>07-05-2020</td>\n",
       "      <td>36.70</td>\n",
       "      <td>14.079</td>\n",
       "      <td>sunny</td>\n",
       "    </tr>\n",
       "    <tr>\n",
       "      <th>2</th>\n",
       "      <td>08-05-2020</td>\n",
       "      <td>29.35</td>\n",
       "      <td>6.880</td>\n",
       "      <td>sunny</td>\n",
       "    </tr>\n",
       "    <tr>\n",
       "      <th>3</th>\n",
       "      <td>08-05-2020</td>\n",
       "      <td>30.40</td>\n",
       "      <td>14.079</td>\n",
       "      <td>cloudy</td>\n",
       "    </tr>\n",
       "    <tr>\n",
       "      <th>4</th>\n",
       "      <td>10-05-2020</td>\n",
       "      <td>29.35</td>\n",
       "      <td>19.055</td>\n",
       "      <td>rainy</td>\n",
       "    </tr>\n",
       "    <tr>\n",
       "      <th>5</th>\n",
       "      <td>11-05-2020</td>\n",
       "      <td>24.20</td>\n",
       "      <td>13.900</td>\n",
       "      <td>sunny</td>\n",
       "    </tr>\n",
       "    <tr>\n",
       "      <th>6</th>\n",
       "      <td>12-05-2020</td>\n",
       "      <td>22.70</td>\n",
       "      <td>14.079</td>\n",
       "      <td>sunny</td>\n",
       "    </tr>\n",
       "    <tr>\n",
       "      <th>7</th>\n",
       "      <td>13-05-2020</td>\n",
       "      <td>35.40</td>\n",
       "      <td>10.788</td>\n",
       "      <td>sunny</td>\n",
       "    </tr>\n",
       "    <tr>\n",
       "      <th>8</th>\n",
       "      <td>13-05-2020</td>\n",
       "      <td>26.30</td>\n",
       "      <td>8.658</td>\n",
       "      <td>sunny</td>\n",
       "    </tr>\n",
       "    <tr>\n",
       "      <th>9</th>\n",
       "      <td>15-05-2020</td>\n",
       "      <td>22.40</td>\n",
       "      <td>14.884</td>\n",
       "      <td>sunny</td>\n",
       "    </tr>\n",
       "    <tr>\n",
       "      <th>10</th>\n",
       "      <td>15-05-2020</td>\n",
       "      <td>29.35</td>\n",
       "      <td>14.079</td>\n",
       "      <td>sunny</td>\n",
       "    </tr>\n",
       "    <tr>\n",
       "      <th>11</th>\n",
       "      <td>17-05-2020</td>\n",
       "      <td>23.50</td>\n",
       "      <td>16.555</td>\n",
       "      <td>rainy</td>\n",
       "    </tr>\n",
       "    <tr>\n",
       "      <th>12</th>\n",
       "      <td>18-05-2020</td>\n",
       "      <td>29.35</td>\n",
       "      <td>25.664</td>\n",
       "      <td>sunny</td>\n",
       "    </tr>\n",
       "    <tr>\n",
       "      <th>13</th>\n",
       "      <td>19-05-2020</td>\n",
       "      <td>30.20</td>\n",
       "      <td>14.258</td>\n",
       "      <td>cloudy</td>\n",
       "    </tr>\n",
       "    <tr>\n",
       "      <th>14</th>\n",
       "      <td>20-05-2020</td>\n",
       "      <td>29.35</td>\n",
       "      <td>17.256</td>\n",
       "      <td>rainy</td>\n",
       "    </tr>\n",
       "    <tr>\n",
       "      <th>15</th>\n",
       "      <td>20-05-2020</td>\n",
       "      <td>33.40</td>\n",
       "      <td>14.079</td>\n",
       "      <td>sunny</td>\n",
       "    </tr>\n",
       "    <tr>\n",
       "      <th>16</th>\n",
       "      <td>22-05-2020</td>\n",
       "      <td>29.35</td>\n",
       "      <td>12.222</td>\n",
       "      <td>sunny</td>\n",
       "    </tr>\n",
       "    <tr>\n",
       "      <th>17</th>\n",
       "      <td>23-05-2020</td>\n",
       "      <td>28.50</td>\n",
       "      <td>13.525</td>\n",
       "      <td>sunny</td>\n",
       "    </tr>\n",
       "    <tr>\n",
       "      <th>18</th>\n",
       "      <td>24-05-2020</td>\n",
       "      <td>27.60</td>\n",
       "      <td>5.899</td>\n",
       "      <td>sunny</td>\n",
       "    </tr>\n",
       "    <tr>\n",
       "      <th>19</th>\n",
       "      <td>25-05-2020</td>\n",
       "      <td>26.70</td>\n",
       "      <td>14.079</td>\n",
       "      <td>sunny</td>\n",
       "    </tr>\n",
       "    <tr>\n",
       "      <th>20</th>\n",
       "      <td>26-05-2020</td>\n",
       "      <td>34.40</td>\n",
       "      <td>16.258</td>\n",
       "      <td>rainy</td>\n",
       "    </tr>\n",
       "    <tr>\n",
       "      <th>21</th>\n",
       "      <td>27-05-2020</td>\n",
       "      <td>33.90</td>\n",
       "      <td>14.363</td>\n",
       "      <td>cloudy</td>\n",
       "    </tr>\n",
       "  </tbody>\n",
       "</table>\n",
       "</div>"
      ],
      "text/plain": [
       "          Date  Temperature  Windspeed  Status\n",
       "0   06-05-2020        35.40     10.788   sunny\n",
       "1   07-05-2020        36.70     14.079   sunny\n",
       "2   08-05-2020        29.35      6.880   sunny\n",
       "3   08-05-2020        30.40     14.079  cloudy\n",
       "4   10-05-2020        29.35     19.055   rainy\n",
       "5   11-05-2020        24.20     13.900   sunny\n",
       "6   12-05-2020        22.70     14.079   sunny\n",
       "7   13-05-2020        35.40     10.788   sunny\n",
       "8   13-05-2020        26.30      8.658   sunny\n",
       "9   15-05-2020        22.40     14.884   sunny\n",
       "10  15-05-2020        29.35     14.079   sunny\n",
       "11  17-05-2020        23.50     16.555   rainy\n",
       "12  18-05-2020        29.35     25.664   sunny\n",
       "13  19-05-2020        30.20     14.258  cloudy\n",
       "14  20-05-2020        29.35     17.256   rainy\n",
       "15  20-05-2020        33.40     14.079   sunny\n",
       "16  22-05-2020        29.35     12.222   sunny\n",
       "17  23-05-2020        28.50     13.525   sunny\n",
       "18  24-05-2020        27.60      5.899   sunny\n",
       "19  25-05-2020        26.70     14.079   sunny\n",
       "20  26-05-2020        34.40     16.258   rainy\n",
       "21  27-05-2020        33.90     14.363  cloudy"
      ]
     },
     "execution_count": 15,
     "metadata": {},
     "output_type": "execute_result"
    }
   ],
   "source": [
    "df"
   ]
  },
  {
   "cell_type": "code",
   "execution_count": 16,
   "id": "6c99b390",
   "metadata": {},
   "outputs": [
    {
     "data": {
      "text/plain": [
       "Date           0\n",
       "Temperature    0\n",
       "Windspeed      0\n",
       "Status         0\n",
       "dtype: int64"
      ]
     },
     "execution_count": 16,
     "metadata": {},
     "output_type": "execute_result"
    }
   ],
   "source": [
    "df.isnull().sum()"
   ]
  },
  {
   "cell_type": "code",
   "execution_count": 17,
   "id": "856a73c4",
   "metadata": {},
   "outputs": [
    {
     "data": {
      "text/plain": [
       "(22, 4)"
      ]
     },
     "execution_count": 17,
     "metadata": {},
     "output_type": "execute_result"
    }
   ],
   "source": [
    "df.shape"
   ]
  },
  {
   "cell_type": "code",
   "execution_count": 18,
   "id": "8d06d3c6",
   "metadata": {},
   "outputs": [
    {
     "name": "stdout",
     "output_type": "stream",
     "text": [
      "<class 'pandas.core.frame.DataFrame'>\n",
      "RangeIndex: 22 entries, 0 to 21\n",
      "Data columns (total 4 columns):\n",
      " #   Column       Non-Null Count  Dtype  \n",
      "---  ------       --------------  -----  \n",
      " 0   Date         22 non-null     object \n",
      " 1   Temperature  22 non-null     float64\n",
      " 2   Windspeed    22 non-null     float64\n",
      " 3   Status       22 non-null     object \n",
      "dtypes: float64(2), object(2)\n",
      "memory usage: 832.0+ bytes\n"
     ]
    }
   ],
   "source": [
    "df.info()"
   ]
  },
  {
   "cell_type": "code",
   "execution_count": 19,
   "id": "69c81f3a",
   "metadata": {},
   "outputs": [
    {
     "data": {
      "text/plain": [
       "<AxesSubplot:ylabel='Frequency'>"
      ]
     },
     "execution_count": 19,
     "metadata": {},
     "output_type": "execute_result"
    },
    {
     "data": {
      "image/png": "[encoded data removed]",
      "text/plain": [
       "<Figure size 640x480 with 1 Axes>"
      ]
     },
     "metadata": {},
     "output_type": "display_data"
    }
   ],
   "source": [
    "df.plot.hist()"
   ]
  },
  {
   "cell_type": "code",
   "execution_count": 20,
   "id": "c0db47af",
   "metadata": {},
   "outputs": [
    {
     "data": {
      "text/plain": [
       "<AxesSubplot:>"
      ]
     },
     "execution_count": 20,
     "metadata": {},
     "output_type": "execute_result"
    },
    {
     "data": {
      "image/png": "[encoded data removed]",
      "text/plain": [
       "<Figure size 640x480 with 1 Axes>"
      ]
     },
     "metadata": {},
     "output_type": "display_data"
    }
   ],
   "source": [
    "df.plot.bar()"
   ]
  },
  {
   "cell_type": "code",
   "execution_count": 21,
   "id": "e0183e3a",
   "metadata": {},
   "outputs": [
    {
     "data": {
      "text/plain": [
       "<AxesSubplot:>"
      ]
     },
     "execution_count": 21,
     "metadata": {},
     "output_type": "execute_result"
    },
    {
     "data": {
      "image/png": "[encoded data removed]",
      "text/plain": [
       "<Figure size 640x480 with 1 Axes>"
      ]
     },
     "metadata": {},
     "output_type": "display_data"
    }
   ],
   "source": [
    "df.plot.box()"
   ]
  },
  {
   "cell_type": "code",
   "execution_count": 22,
   "id": "995765b9",
   "metadata": {},
   "outputs": [
    {
     "data": {
      "text/plain": [
       "<AxesSubplot:xlabel='Temperature', ylabel='Windspeed'>"
      ]
     },
     "execution_count": 22,
     "metadata": {},
     "output_type": "execute_result"
    },
    {
     "data": {
      "image/png": "[encoded data removed]",
      "text/plain": [
       "<Figure size 640x480 with 1 Axes>"
      ]
     },
     "metadata": {},
     "output_type": "display_data"
    }
   ],
   "source": [
    "df.plot.scatter(\"Temperature\",\"Windspeed\")"
   ]
  },
  {
   "cell_type": "code",
   "execution_count": 23,
   "id": "1e58144f",
   "metadata": {},
   "outputs": [],
   "source": [
    "def outlier(col):\n",
    "    Q3, Q1= np.nanpercentile(col,[75,25])\n",
    "    iqr=Q3-Q1\n",
    "    ul=Q3+1.5*iqr\n",
    "    ll=Q1-1.5*iqr\n",
    "    return ul, ll"
   ]
  },
  {
   "cell_type": "code",
   "execution_count": 24,
   "id": "1bb15525",
   "metadata": {},
   "outputs": [],
   "source": [
    "for column in df.columns:\n",
    "    if df[column].dtype !=\"object\":\n",
    "        ul,ll=outlier(df[column])\n",
    "        df[column]=np.where((df[column]>ul)|(df[column]<ll),np.nan,df[column])"
   ]
  },
  {
   "cell_type": "code",
   "execution_count": 25,
   "id": "d23e7758",
   "metadata": {},
   "outputs": [
    {
     "data": {
      "image/png": "[encoded data removed]",
      "text/plain": [
       "<Figure size 640x480 with 1 Axes>"
      ]
     },
     "metadata": {},
     "output_type": "display_data"
    },
    {
     "data": {
      "image/png": "[encoded data removed]",
      "text/plain": [
       "<Figure size 640x480 with 1 Axes>"
      ]
     },
     "metadata": {},
     "output_type": "display_data"
    }
   ],
   "source": [
    "for i in df.columns:\n",
    "    if df[i].dtype !=\"object\":\n",
    "        sns.boxplot(y=df[i],color=\"green\")\n",
    "        plt.show()"
   ]
  },
  {
   "cell_type": "code",
   "execution_count": 26,
   "id": "38737f3d",
   "metadata": {},
   "outputs": [
    {
     "name": "stdout",
     "output_type": "stream",
     "text": [
      "<class 'pandas.core.frame.DataFrame'>\n",
      "RangeIndex: 22 entries, 0 to 21\n",
      "Data columns (total 4 columns):\n",
      " #   Column       Non-Null Count  Dtype  \n",
      "---  ------       --------------  -----  \n",
      " 0   Date         22 non-null     object \n",
      " 1   Temperature  22 non-null     float64\n",
      " 2   Windspeed    17 non-null     float64\n",
      " 3   Status       22 non-null     object \n",
      "dtypes: float64(2), object(2)\n",
      "memory usage: 832.0+ bytes\n"
     ]
    }
   ],
   "source": [
    "df.info()"
   ]
  },
  {
   "cell_type": "code",
   "execution_count": 27,
   "id": "092b50fe",
   "metadata": {},
   "outputs": [
    {
     "data": {
      "text/plain": [
       "array([10.788, 14.079,    nan, 13.9  , 14.884, 16.555, 14.258, 17.256,\n",
       "       12.222, 13.525, 16.258, 14.363])"
      ]
     },
     "execution_count": 27,
     "metadata": {},
     "output_type": "execute_result"
    }
   ],
   "source": [
    "df['Windspeed'].unique()"
   ]
  },
  {
   "cell_type": "code",
   "execution_count": 30,
   "id": "c6589da3",
   "metadata": {},
   "outputs": [],
   "source": [
    "df['Windspeed'].replace(np.nan,f,inplace=True)"
   ]
  },
  {
   "cell_type": "code",
   "execution_count": 31,
   "id": "2a278bcf",
   "metadata": {},
   "outputs": [
    {
     "data": {
      "text/plain": [
       "Date           0\n",
       "Temperature    0\n",
       "Windspeed      0\n",
       "Status         0\n",
       "dtype: int64"
      ]
     },
     "execution_count": 31,
     "metadata": {},
     "output_type": "execute_result"
    }
   ],
   "source": [
    "df.isnull().sum()"
   ]
  },
  {
   "cell_type": "code",
   "execution_count": 32,
   "id": "15174338",
   "metadata": {},
   "outputs": [],
   "source": [
    "def outlier(col):\n",
    "    Q3, Q1= np.nanpercentile(col,[75,25])\n",
    "    iqr=Q3-Q1\n",
    "    ul=Q3+1.5*iqr\n",
    "    ll=Q1-1.5*iqr\n",
    "    return ul, ll"
   ]
  },
  {
   "cell_type": "code",
   "execution_count": 33,
   "id": "a3fa9052",
   "metadata": {},
   "outputs": [],
   "source": [
    "for column in df.columns:\n",
    "    if df[column].dtype !=\"object\":\n",
    "        ul,ll=outlier(df[column])\n",
    "        df[column]=np.where((df[column]>ul)|(df[column]<ll),np.nan,df[column])"
   ]
  },
  {
   "cell_type": "code",
   "execution_count": 34,
   "id": "e4beb40c",
   "metadata": {},
   "outputs": [
    {
     "data": {
      "image/png": "[encoded data removed]",
      "text/plain": [
       "<Figure size 640x480 with 1 Axes>"
      ]
     },
     "metadata": {},
     "output_type": "display_data"
    },
    {
     "data": {
      "image/png": "[encoded data removed]",
      "text/plain": [
       "<Figure size 640x480 with 1 Axes>"
      ]
     },
     "metadata": {},
     "output_type": "display_data"
    }
   ],
   "source": [
    "for i in df.columns:\n",
    "    if df[i].dtype !=\"object\":\n",
    "        sns.boxplot(y=df[i],color=\"green\")\n",
    "        plt.show()"
   ]
  },
  {
   "cell_type": "code",
   "execution_count": 35,
   "id": "372a1d4b",
   "metadata": {},
   "outputs": [
    {
     "data": {
      "text/plain": [
       "Date           0\n",
       "Temperature    0\n",
       "Windspeed      8\n",
       "Status         0\n",
       "dtype: int64"
      ]
     },
     "execution_count": 35,
     "metadata": {},
     "output_type": "execute_result"
    }
   ],
   "source": [
    "df.isnull().sum()"
   ]
  },
  {
   "cell_type": "code",
   "execution_count": null,
   "id": "c3aded3b",
   "metadata": {},
   "outputs": [],
   "source": []
  }
 ],
 "metadata": {
  "kernelspec": {
   "display_name": "Python 3 (ipykernel)",
   "language": "python",
   "name": "python3"
  },
  "language_info": {
   "codemirror_mode": {
    "name": "ipython",
    "version": 3
   },
   "file_extension": ".py",
   "mimetype": "text/x-python",
   "name": "python",
   "nbconvert_exporter": "python",
   "pygments_lexer": "ipython3",
   "version": "3.9.13"
  }
 },
 "nbformat": 4,
 "nbformat_minor": 5
}
